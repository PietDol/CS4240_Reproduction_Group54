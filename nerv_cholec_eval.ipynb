{
 "cells": [
  {
   "cell_type": "code",
   "execution_count": 1,
   "id": "2c1a32ae",
   "metadata": {
    "_cell_guid": "b1076dfc-b9ad-4769-8c92-a6c4dae69d19",
    "_uuid": "8f2839f25d086af736a60e9eeb907d3b93b6e0e5",
    "execution": {
     "iopub.execute_input": "2024-04-03T09:29:59.106642Z",
     "iopub.status.busy": "2024-04-03T09:29:59.105897Z",
     "iopub.status.idle": "2024-04-03T09:30:50.410628Z",
     "shell.execute_reply": "2024-04-03T09:30:50.409711Z"
    },
    "papermill": {
     "duration": 51.311712,
     "end_time": "2024-04-03T09:30:50.413006",
     "exception": false,
     "start_time": "2024-04-03T09:29:59.101294",
     "status": "completed"
    },
    "tags": []
   },
   "outputs": [
    {
     "name": "stdout",
     "output_type": "stream",
     "text": [
      "Collecting pytorch_msssim==0.2.1\r\n",
      "  Downloading pytorch_msssim-0.2.1-py3-none-any.whl.metadata (7.2 kB)\r\n",
      "Requirement already satisfied: torch in /opt/conda/lib/python3.10/site-packages (from pytorch_msssim==0.2.1) (2.1.2)\r\n",
      "Requirement already satisfied: filelock in /opt/conda/lib/python3.10/site-packages (from torch->pytorch_msssim==0.2.1) (3.13.1)\r\n",
      "Requirement already satisfied: typing-extensions in /opt/conda/lib/python3.10/site-packages (from torch->pytorch_msssim==0.2.1) (4.9.0)\r\n",
      "Requirement already satisfied: sympy in /opt/conda/lib/python3.10/site-packages (from torch->pytorch_msssim==0.2.1) (1.12)\r\n",
      "Requirement already satisfied: networkx in /opt/conda/lib/python3.10/site-packages (from torch->pytorch_msssim==0.2.1) (3.2.1)\r\n",
      "Requirement already satisfied: jinja2 in /opt/conda/lib/python3.10/site-packages (from torch->pytorch_msssim==0.2.1) (3.1.2)\r\n",
      "Requirement already satisfied: fsspec in /opt/conda/lib/python3.10/site-packages (from torch->pytorch_msssim==0.2.1) (2024.3.0)\r\n",
      "Requirement already satisfied: MarkupSafe>=2.0 in /opt/conda/lib/python3.10/site-packages (from jinja2->torch->pytorch_msssim==0.2.1) (2.1.3)\r\n",
      "Requirement already satisfied: mpmath>=0.19 in /opt/conda/lib/python3.10/site-packages (from sympy->torch->pytorch_msssim==0.2.1) (1.3.0)\r\n",
      "Downloading pytorch_msssim-0.2.1-py3-none-any.whl (7.2 kB)\r\n",
      "Installing collected packages: pytorch_msssim\r\n",
      "Successfully installed pytorch_msssim-0.2.1\r\n",
      "Collecting dahuffman==0.4.1\r\n",
      "  Downloading dahuffman-0.4.1-py2.py3-none-any.whl.metadata (4.7 kB)\r\n",
      "Downloading dahuffman-0.4.1-py2.py3-none-any.whl (18 kB)\r\n",
      "Installing collected packages: dahuffman\r\n",
      "Successfully installed dahuffman-0.4.1\r\n",
      "Requirement already satisfied: Pillow in /opt/conda/lib/python3.10/site-packages (9.5.0)\r\n",
      "Collecting yaspin==2.1.0\r\n",
      "  Downloading yaspin-2.1.0-py3-none-any.whl.metadata (14 kB)\r\n",
      "Collecting termcolor<2.0.0,>=1.1.0 (from yaspin==2.1.0)\r\n",
      "  Downloading termcolor-1.1.0.tar.gz (3.9 kB)\r\n",
      "  Preparing metadata (setup.py) ... \u001b[?25l-\b \bdone\r\n",
      "\u001b[?25hDownloading yaspin-2.1.0-py3-none-any.whl (18 kB)\r\n",
      "Building wheels for collected packages: termcolor\r\n",
      "  Building wheel for termcolor (setup.py) ... \u001b[?25l-\b \b\\\b \bdone\r\n",
      "\u001b[?25h  Created wheel for termcolor: filename=termcolor-1.1.0-py3-none-any.whl size=4832 sha256=f1d250fbc3e4eace60a7043587613b330ed97bf1fb7f2807cd017594e7820907\r\n",
      "  Stored in directory: /root/.cache/pip/wheels/a1/49/46/1b13a65d8da11238af9616b00fdde6d45b0f95d9291bac8452\r\n",
      "Successfully built termcolor\r\n",
      "Installing collected packages: termcolor, yaspin\r\n",
      "  Attempting uninstall: termcolor\r\n",
      "    Found existing installation: termcolor 2.4.0\r\n",
      "    Uninstalling termcolor-2.4.0:\r\n",
      "      Successfully uninstalled termcolor-2.4.0\r\n",
      "\u001b[31mERROR: pip's dependency resolver does not currently take into account all the packages that are installed. This behaviour is the source of the following dependency conflicts.\r\n",
      "tensorflow-decision-forests 1.8.1 requires wurlitzer, which is not installed.\r\n",
      "tensorflow 2.15.0 requires keras<2.16,>=2.15.0, but you have keras 3.0.5 which is incompatible.\u001b[0m\u001b[31m\r\n",
      "\u001b[0mSuccessfully installed termcolor-1.1.0 yaspin-2.1.0\r\n"
     ]
    }
   ],
   "source": [
    "# Needed to install the packages from requirements.txt that aren't already available in Kaggle\n",
    "!pip install pytorch_msssim==0.2.1; pip install dahuffman==0.4.1; pip install Pillow; pip install yaspin==2.1.0; "
   ]
  },
  {
   "cell_type": "code",
   "execution_count": 2,
   "id": "4effc65f",
   "metadata": {
    "execution": {
     "iopub.execute_input": "2024-04-03T09:30:50.424807Z",
     "iopub.status.busy": "2024-04-03T09:30:50.423982Z",
     "iopub.status.idle": "2024-04-03T09:30:50.428577Z",
     "shell.execute_reply": "2024-04-03T09:30:50.427764Z"
    },
    "papermill": {
     "duration": 0.012139,
     "end_time": "2024-04-03T09:30:50.430544",
     "exception": false,
     "start_time": "2024-04-03T09:30:50.418405",
     "status": "completed"
    },
    "tags": []
   },
   "outputs": [],
   "source": [
    "import sys\n",
    "sys.path.append('/kaggle/input/nerv-cholec')"
   ]
  },
  {
   "cell_type": "code",
   "execution_count": 3,
   "id": "44e91fa9",
   "metadata": {
    "execution": {
     "iopub.execute_input": "2024-04-03T09:30:50.440020Z",
     "iopub.status.busy": "2024-04-03T09:30:50.439625Z",
     "iopub.status.idle": "2024-04-03T09:32:22.677455Z",
     "shell.execute_reply": "2024-04-03T09:32:22.676325Z"
    },
    "papermill": {
     "duration": 92.245658,
     "end_time": "2024-04-03T09:32:22.680357",
     "exception": false,
     "start_time": "2024-04-03T09:30:50.434699",
     "status": "completed"
    },
    "tags": []
   },
   "outputs": [
    {
     "name": "stdout",
     "output_type": "stream",
     "text": [
      "2024-04-03 09:30:59.675586: E external/local_xla/xla/stream_executor/cuda/cuda_dnn.cc:9261] Unable to register cuDNN factory: Attempting to register factory for plugin cuDNN when one has already been registered\r\n",
      "2024-04-03 09:30:59.675762: E external/local_xla/xla/stream_executor/cuda/cuda_fft.cc:607] Unable to register cuFFT factory: Attempting to register factory for plugin cuFFT when one has already been registered\r\n",
      "2024-04-03 09:30:59.798059: E external/local_xla/xla/stream_executor/cuda/cuda_blas.cc:1515] Unable to register cuBLAS factory: Attempting to register factory for plugin cuBLAS when one has already been registered\r\n",
      "Namespace(vid=[None], scale=1, frame_gap=1, augment=0, dataset='video50_frames', test_gap=1, embed='1.25_40', stem_dim_num='512_1', fc_hw_dim='9_16_26', expansion=1.0, reduction=2, strides=[5, 2, 2, 2, 2], num_blocks=1, norm='none', act='swish', lower_width=96, single_res=True, conv_type='conv', workers=4, batchSize=1, not_resume_epoch=False, epochs=300, cycles=1, warmup=60, lr=0.0005, lr_type='cosine', lr_steps=[], beta=0.5, loss_type='Fusion6', lw=1.0, sigmoid=False, eval_only=True, eval_freq=50, quant_bit=-1, quant_axis=0, dump_images=True, eval_fps=False, prune_steps=[0.0], prune_ratio=1.0, manualSeed=1, init_method='tcp://127.0.0.1:9888', distributed=False, debug=False, print_freq=50, weight='/kaggle/input/nerv-cholec/output/video_50out/video50_frames/embed1.25_40_512_1_fc_9_16_26__exp1.0_reduce2_low96_blk1_cycle1_gap1_e1200_warm240_b1_conv_lr0.0005_cosine_Fusion6_Strd5,2,2,2,2_SinRes_actswish_/model_val_best.pth', overwrite=False, outf='video_50_out', suffix='')\r\n",
      "init_method: tcp://127.0.0.1:19869\r\n",
      "Namespace(vid=[None], scale=1, frame_gap=1, augment=0, dataset='video50_frames', test_gap=1, embed='1.25_40', stem_dim_num='512_1', fc_hw_dim='9_16_26', expansion=1.0, reduction=2, strides=[5, 2, 2, 2, 2], num_blocks=1, norm='none', act='swish', lower_width=96, single_res=True, conv_type='conv', workers=4, batchSize=1, not_resume_epoch=False, epochs=300, cycles=1, warmup=60, lr=0.0005, lr_type='cosine', lr_steps=[], beta=0.5, loss_type='Fusion6', lw=1.0, sigmoid=False, eval_only=True, eval_freq=50, quant_bit=-1, quant_axis=0, dump_images=True, eval_fps=False, prune_steps=[0.0], prune_ratio=1.0, manualSeed=1, init_method='tcp://127.0.0.1:19869', distributed=False, debug=False, print_freq=50, weight='/kaggle/input/nerv-cholec/output/video_50out/video50_frames/embed1.25_40_512_1_fc_9_16_26__exp1.0_reduce2_low96_blk1_cycle1_gap1_e1200_warm240_b1_conv_lr0.0005_cosine_Fusion6_Strd5,2,2,2,2_SinRes_actswish_/model_val_best.pth', overwrite=False, outf='output/video_50_out/video50_frames/embed1.25_40_512_1_fc_9_16_26__exp1.0_reduce2_low96_blk1_cycle1_gap1_e300_warm60_b1_conv_lr0.0005_cosine_Fusion6_Strd5,2,2,2,2_SinRes_eval_actswish_', suffix='', exp_id='video50_frames/embed1.25_40_512_1_fc_9_16_26__exp1.0_reduce2_low96_blk1_cycle1_gap1_e300_warm60_b1_conv_lr0.0005_cosine_Fusion6_Strd5,2,2,2,2_SinRes_eval_actswish_', ngpus_per_node=1, embed_length=80)\r\n",
      " Generator(\r\n",
      "  (stem): Sequential(\r\n",
      "    (0): Linear(in_features=80, out_features=512, bias=True)\r\n",
      "    (1): SiLU(inplace=True)\r\n",
      "    (2): Linear(in_features=512, out_features=3744, bias=True)\r\n",
      "    (3): SiLU(inplace=True)\r\n",
      "  )\r\n",
      "  (layers): ModuleList(\r\n",
      "    (0): NeRVBlock(\r\n",
      "      (conv): CustomConv(\r\n",
      "        (conv): Conv2d(26, 650, kernel_size=(3, 3), stride=(1, 1), padding=(1, 1))\r\n",
      "        (up_scale): PixelShuffle(upscale_factor=5)\r\n",
      "      )\r\n",
      "      (norm): Identity()\r\n",
      "      (act): SiLU(inplace=True)\r\n",
      "    )\r\n",
      "    (1): NeRVBlock(\r\n",
      "      (conv): CustomConv(\r\n",
      "        (conv): Conv2d(26, 384, kernel_size=(3, 3), stride=(1, 1), padding=(1, 1))\r\n",
      "        (up_scale): PixelShuffle(upscale_factor=2)\r\n",
      "      )\r\n",
      "      (norm): Identity()\r\n",
      "      (act): SiLU(inplace=True)\r\n",
      "    )\r\n",
      "    (2-4): 3 x NeRVBlock(\r\n",
      "      (conv): CustomConv(\r\n",
      "        (conv): Conv2d(96, 384, kernel_size=(3, 3), stride=(1, 1), padding=(1, 1))\r\n",
      "        (up_scale): PixelShuffle(upscale_factor=2)\r\n",
      "      )\r\n",
      "      (norm): Identity()\r\n",
      "      (act): SiLU(inplace=True)\r\n",
      "    )\r\n",
      "  )\r\n",
      "  (head_layers): ModuleList(\r\n",
      "    (0-3): 4 x None\r\n",
      "    (4): Conv2d(96, 3, kernel_size=(1, 1), stride=(1, 1))\r\n",
      "  )\r\n",
      ")\r\n",
      " Model Params: 3.201905M\r\n",
      "Use GPU: None for training\r\n",
      "=> loading checkpoint '/kaggle/input/nerv-cholec/output/video_50out/video50_frames/embed1.25_40_512_1_fc_9_16_26__exp1.0_reduce2_low96_blk1_cycle1_gap1_e1200_warm240_b1_conv_lr0.0005_cosine_Fusion6_Strd5,2,2,2,2_SinRes_actswish_/model_val_best.pth'\r\n",
      "=> loaded checkpoint '/kaggle/input/nerv-cholec/output/video_50out/video50_frames/embed1.25_40_512_1_fc_9_16_26__exp1.0_reduce2_low96_blk1_cycle1_gap1_e1200_warm240_b1_conv_lr0.0005_cosine_Fusion6_Strd5,2,2,2,2_SinRes_actswish_/model_val_best.pth' (epoch 1198)\r\n",
      "=> No resume checkpoint found at 'output/video_50_out/video50_frames/embed1.25_40_512_1_fc_9_16_26__exp1.0_reduce2_low96_blk1_cycle1_gap1_e300_warm60_b1_conv_lr0.0005_cosine_Fusion6_Strd5,2,2,2,2_SinRes_eval_actswish_/model_latest.pth'\r\n",
      "Evaluation ...\r\n",
      "Saving predictions to output/video_50_out/video50_frames/embed1.25_40_512_1_fc_9_16_26__exp1.0_reduce2_low96_blk1_cycle1_gap1_e300_warm60_b1_conv_lr0.0005_cosine_Fusion6_Strd5,2,2,2,2_SinRes_eval_actswish_/visualize\r\n",
      "Rank:None, Step [1/120], PSNR: 37.14, MSSSIM: 0.9709 FPS: 0.76\r\n",
      "Rank:None, Step [51/120], PSNR: 38.11, MSSSIM: 0.9756 FPS: 20.86\r\n",
      "Rank:None, Step [101/120], PSNR: 37.26, MSSSIM: 0.9739 FPS: 28.27\r\n",
      "2024_04_03_09_31_09\t Results for checkpoint: /kaggle/input/nerv-cholec/output/video_50out/video50_frames/embed1.25_40_512_1_fc_9_16_26__exp1.0_reduce2_low96_blk1_cycle1_gap1_e1200_warm240_b1_conv_lr0.0005_cosine_Fusion6_Strd5,2,2,2,2_SinRes_actswish_/model_val_best.pth\r\n",
      "PSNR/ms_ssim on validate set for bit -1 with axis 0: 37.68/0.9753\r\n"
     ]
    }
   ],
   "source": [
    "# video 50 output \n",
    "!python '/kaggle/usr/lib/nervfile/nervfile.py' -e 300   --lower-width 96 --num-blocks 1 --dataset video50_frames --frame_gap 1 \\\n",
    "    --outf video_50_out --embed 1.25_40 --stem_dim_num 512_1  --reduction 2  --fc_hw_dim 9_16_26 --expansion 1  \\\n",
    "    --single_res --loss Fusion6   --warmup 0.2 --lr_type cosine  --strides 5 2 2 2 2  --conv_type conv \\\n",
    "    -b 1  --lr 0.0005 --norm none --act swish \\\n",
    "    --weight /kaggle/input/nerv-cholec/output/video_50out/video50_frames/embed1.25_40_512_1_fc_9_16_26__exp1.0_reduce2_low96_blk1_cycle1_gap1_e1200_warm240_b1_conv_lr0.0005_cosine_Fusion6_Strd5,2,2,2,2_SinRes_actswish_/model_val_best.pth --eval_only --dump_images"
   ]
  },
  {
   "cell_type": "code",
   "execution_count": 4,
   "id": "6b230978",
   "metadata": {
    "execution": {
     "iopub.execute_input": "2024-04-03T09:32:22.697209Z",
     "iopub.status.busy": "2024-04-03T09:32:22.696336Z",
     "iopub.status.idle": "2024-04-03T09:33:50.575315Z",
     "shell.execute_reply": "2024-04-03T09:33:50.574286Z"
    },
    "papermill": {
     "duration": 87.889985,
     "end_time": "2024-04-03T09:33:50.577749",
     "exception": false,
     "start_time": "2024-04-03T09:32:22.687764",
     "status": "completed"
    },
    "tags": []
   },
   "outputs": [
    {
     "name": "stdout",
     "output_type": "stream",
     "text": [
      "2024-04-03 09:32:27.712386: E external/local_xla/xla/stream_executor/cuda/cuda_dnn.cc:9261] Unable to register cuDNN factory: Attempting to register factory for plugin cuDNN when one has already been registered\r\n",
      "2024-04-03 09:32:27.712453: E external/local_xla/xla/stream_executor/cuda/cuda_fft.cc:607] Unable to register cuFFT factory: Attempting to register factory for plugin cuFFT when one has already been registered\r\n",
      "2024-04-03 09:32:27.713881: E external/local_xla/xla/stream_executor/cuda/cuda_blas.cc:1515] Unable to register cuBLAS factory: Attempting to register factory for plugin cuBLAS when one has already been registered\r\n",
      "Namespace(vid=[None], scale=1, frame_gap=1, augment=0, dataset='video70_frames', test_gap=1, embed='1.25_40', stem_dim_num='512_1', fc_hw_dim='9_16_26', expansion=1.0, reduction=2, strides=[5, 2, 2, 2, 2], num_blocks=1, norm='none', act='swish', lower_width=96, single_res=True, conv_type='conv', workers=4, batchSize=1, not_resume_epoch=False, epochs=300, cycles=1, warmup=60, lr=0.0005, lr_type='cosine', lr_steps=[], beta=0.5, loss_type='Fusion6', lw=1.0, sigmoid=False, eval_only=True, eval_freq=50, quant_bit=-1, quant_axis=0, dump_images=True, eval_fps=False, prune_steps=[0.0], prune_ratio=1.0, manualSeed=1, init_method='tcp://127.0.0.1:9888', distributed=False, debug=False, print_freq=50, weight='/kaggle/input/nerv-cholec/output/video70out/video70_frames/embed1.25_40_512_1_fc_9_16_26__exp1.0_reduce2_low96_blk1_cycle1_gap1_e1200_warm240_b1_conv_lr0.0005_cosine_Fusion6_Strd5,2,2,2,2_SinRes_actswish_/model_val_best.pth', overwrite=False, outf='video_70_out', suffix='')\r\n",
      "init_method: tcp://127.0.0.1:17427\r\n",
      "Namespace(vid=[None], scale=1, frame_gap=1, augment=0, dataset='video70_frames', test_gap=1, embed='1.25_40', stem_dim_num='512_1', fc_hw_dim='9_16_26', expansion=1.0, reduction=2, strides=[5, 2, 2, 2, 2], num_blocks=1, norm='none', act='swish', lower_width=96, single_res=True, conv_type='conv', workers=4, batchSize=1, not_resume_epoch=False, epochs=300, cycles=1, warmup=60, lr=0.0005, lr_type='cosine', lr_steps=[], beta=0.5, loss_type='Fusion6', lw=1.0, sigmoid=False, eval_only=True, eval_freq=50, quant_bit=-1, quant_axis=0, dump_images=True, eval_fps=False, prune_steps=[0.0], prune_ratio=1.0, manualSeed=1, init_method='tcp://127.0.0.1:17427', distributed=False, debug=False, print_freq=50, weight='/kaggle/input/nerv-cholec/output/video70out/video70_frames/embed1.25_40_512_1_fc_9_16_26__exp1.0_reduce2_low96_blk1_cycle1_gap1_e1200_warm240_b1_conv_lr0.0005_cosine_Fusion6_Strd5,2,2,2,2_SinRes_actswish_/model_val_best.pth', overwrite=False, outf='output/video_70_out/video70_frames/embed1.25_40_512_1_fc_9_16_26__exp1.0_reduce2_low96_blk1_cycle1_gap1_e300_warm60_b1_conv_lr0.0005_cosine_Fusion6_Strd5,2,2,2,2_SinRes_eval_actswish_', suffix='', exp_id='video70_frames/embed1.25_40_512_1_fc_9_16_26__exp1.0_reduce2_low96_blk1_cycle1_gap1_e300_warm60_b1_conv_lr0.0005_cosine_Fusion6_Strd5,2,2,2,2_SinRes_eval_actswish_', ngpus_per_node=1, embed_length=80)\r\n",
      " Generator(\r\n",
      "  (stem): Sequential(\r\n",
      "    (0): Linear(in_features=80, out_features=512, bias=True)\r\n",
      "    (1): SiLU(inplace=True)\r\n",
      "    (2): Linear(in_features=512, out_features=3744, bias=True)\r\n",
      "    (3): SiLU(inplace=True)\r\n",
      "  )\r\n",
      "  (layers): ModuleList(\r\n",
      "    (0): NeRVBlock(\r\n",
      "      (conv): CustomConv(\r\n",
      "        (conv): Conv2d(26, 650, kernel_size=(3, 3), stride=(1, 1), padding=(1, 1))\r\n",
      "        (up_scale): PixelShuffle(upscale_factor=5)\r\n",
      "      )\r\n",
      "      (norm): Identity()\r\n",
      "      (act): SiLU(inplace=True)\r\n",
      "    )\r\n",
      "    (1): NeRVBlock(\r\n",
      "      (conv): CustomConv(\r\n",
      "        (conv): Conv2d(26, 384, kernel_size=(3, 3), stride=(1, 1), padding=(1, 1))\r\n",
      "        (up_scale): PixelShuffle(upscale_factor=2)\r\n",
      "      )\r\n",
      "      (norm): Identity()\r\n",
      "      (act): SiLU(inplace=True)\r\n",
      "    )\r\n",
      "    (2-4): 3 x NeRVBlock(\r\n",
      "      (conv): CustomConv(\r\n",
      "        (conv): Conv2d(96, 384, kernel_size=(3, 3), stride=(1, 1), padding=(1, 1))\r\n",
      "        (up_scale): PixelShuffle(upscale_factor=2)\r\n",
      "      )\r\n",
      "      (norm): Identity()\r\n",
      "      (act): SiLU(inplace=True)\r\n",
      "    )\r\n",
      "  )\r\n",
      "  (head_layers): ModuleList(\r\n",
      "    (0-3): 4 x None\r\n",
      "    (4): Conv2d(96, 3, kernel_size=(1, 1), stride=(1, 1))\r\n",
      "  )\r\n",
      ")\r\n",
      " Model Params: 3.201905M\r\n",
      "Use GPU: None for training\r\n",
      "=> loading checkpoint '/kaggle/input/nerv-cholec/output/video70out/video70_frames/embed1.25_40_512_1_fc_9_16_26__exp1.0_reduce2_low96_blk1_cycle1_gap1_e1200_warm240_b1_conv_lr0.0005_cosine_Fusion6_Strd5,2,2,2,2_SinRes_actswish_/model_val_best.pth'\r\n",
      "=> loaded checkpoint '/kaggle/input/nerv-cholec/output/video70out/video70_frames/embed1.25_40_512_1_fc_9_16_26__exp1.0_reduce2_low96_blk1_cycle1_gap1_e1200_warm240_b1_conv_lr0.0005_cosine_Fusion6_Strd5,2,2,2,2_SinRes_actswish_/model_val_best.pth' (epoch 1195)\r\n",
      "=> No resume checkpoint found at 'output/video_70_out/video70_frames/embed1.25_40_512_1_fc_9_16_26__exp1.0_reduce2_low96_blk1_cycle1_gap1_e300_warm60_b1_conv_lr0.0005_cosine_Fusion6_Strd5,2,2,2,2_SinRes_eval_actswish_/model_latest.pth'\r\n",
      "Evaluation ...\r\n",
      "Saving predictions to output/video_70_out/video70_frames/embed1.25_40_512_1_fc_9_16_26__exp1.0_reduce2_low96_blk1_cycle1_gap1_e300_warm60_b1_conv_lr0.0005_cosine_Fusion6_Strd5,2,2,2,2_SinRes_eval_actswish_/visualize\r\n",
      "Rank:None, Step [1/113], PSNR: 39.18, MSSSIM: 0.9733 FPS: 1.03\r\n",
      "Rank:None, Step [51/113], PSNR: 39.17, MSSSIM: 0.9753 FPS: 25.39\r\n",
      "Rank:None, Step [101/113], PSNR: 39.31, MSSSIM: 0.9758 FPS: 32.33\r\n",
      "2024_04_03_09_32_30\t Results for checkpoint: /kaggle/input/nerv-cholec/output/video70out/video70_frames/embed1.25_40_512_1_fc_9_16_26__exp1.0_reduce2_low96_blk1_cycle1_gap1_e1200_warm240_b1_conv_lr0.0005_cosine_Fusion6_Strd5,2,2,2,2_SinRes_actswish_/model_val_best.pth\r\n",
      "PSNR/ms_ssim on validate set for bit -1 with axis 0: 39.46/0.9763\r\n"
     ]
    }
   ],
   "source": [
    "# video 70 output \n",
    "!python '/kaggle/usr/lib/nervfile/nervfile.py' -e 300   --lower-width 96 --num-blocks 1 --dataset video70_frames --frame_gap 1 \\\n",
    "    --outf video_70_out --embed 1.25_40 --stem_dim_num 512_1  --reduction 2  --fc_hw_dim 9_16_26 --expansion 1  \\\n",
    "    --single_res --loss Fusion6   --warmup 0.2 --lr_type cosine  --strides 5 2 2 2 2  --conv_type conv \\\n",
    "    -b 1  --lr 0.0005 --norm none --act swish \\\n",
    "    --weight /kaggle/input/nerv-cholec/output/video70out/video70_frames/embed1.25_40_512_1_fc_9_16_26__exp1.0_reduce2_low96_blk1_cycle1_gap1_e1200_warm240_b1_conv_lr0.0005_cosine_Fusion6_Strd5,2,2,2,2_SinRes_actswish_/model_val_best.pth --eval_only --dump_images"
   ]
  },
  {
   "cell_type": "code",
   "execution_count": null,
   "id": "7c36cd1a",
   "metadata": {
    "papermill": {
     "duration": 0.006045,
     "end_time": "2024-04-03T09:33:50.590275",
     "exception": false,
     "start_time": "2024-04-03T09:33:50.584230",
     "status": "completed"
    },
    "tags": []
   },
   "outputs": [],
   "source": []
  }
 ],
 "metadata": {
  "kaggle": {
   "accelerator": "gpu",
   "dataSources": [
    {
     "datasetId": 4598960,
     "sourceId": 7946493,
     "sourceType": "datasetVersion"
    },
    {
     "sourceId": 168834813,
     "sourceType": "kernelVersion"
    },
    {
     "sourceId": 169896703,
     "sourceType": "kernelVersion"
    }
   ],
   "dockerImageVersionId": 30673,
   "isGpuEnabled": true,
   "isInternetEnabled": true,
   "language": "python",
   "sourceType": "notebook"
  },
  "kernelspec": {
   "display_name": "Python 3",
   "language": "python",
   "name": "python3"
  },
  "language_info": {
   "codemirror_mode": {
    "name": "ipython",
    "version": 3
   },
   "file_extension": ".py",
   "mimetype": "text/x-python",
   "name": "python",
   "nbconvert_exporter": "python",
   "pygments_lexer": "ipython3",
   "version": "3.10.13"
  },
  "papermill": {
   "default_parameters": {},
   "duration": 234.641017,
   "end_time": "2024-04-03T09:33:50.915786",
   "environment_variables": {},
   "exception": null,
   "input_path": "__notebook__.ipynb",
   "output_path": "__notebook__.ipynb",
   "parameters": {},
   "start_time": "2024-04-03T09:29:56.274769",
   "version": "2.5.0"
  }
 },
 "nbformat": 4,
 "nbformat_minor": 5
}
